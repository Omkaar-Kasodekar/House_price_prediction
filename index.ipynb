{
 "cells": [
  {
   "cell_type": "markdown",
   "id": "b517d6de",
   "metadata": {},
   "source": [
    "House Price Prediction"
   ]
  },
  {
   "cell_type": "code",
   "execution_count": 1,
   "id": "4dbf47a3",
   "metadata": {},
   "outputs": [
    {
     "data": {
      "text/html": [
       "<div>\n",
       "<style scoped>\n",
       "    .dataframe tbody tr th:only-of-type {\n",
       "        vertical-align: middle;\n",
       "    }\n",
       "\n",
       "    .dataframe tbody tr th {\n",
       "        vertical-align: top;\n",
       "    }\n",
       "\n",
       "    .dataframe thead th {\n",
       "        text-align: right;\n",
       "    }\n",
       "</style>\n",
       "<table border=\"1\" class=\"dataframe\">\n",
       "  <thead>\n",
       "    <tr style=\"text-align: right;\">\n",
       "      <th></th>\n",
       "      <th>area_type</th>\n",
       "      <th>availability</th>\n",
       "      <th>location</th>\n",
       "      <th>size</th>\n",
       "      <th>society</th>\n",
       "      <th>total_sqft</th>\n",
       "      <th>bath</th>\n",
       "      <th>balcony</th>\n",
       "      <th>price</th>\n",
       "    </tr>\n",
       "  </thead>\n",
       "  <tbody>\n",
       "    <tr>\n",
       "      <th>0</th>\n",
       "      <td>Super built-up  Area</td>\n",
       "      <td>19-Dec</td>\n",
       "      <td>Electronic City Phase II</td>\n",
       "      <td>2 BHK</td>\n",
       "      <td>Coomee</td>\n",
       "      <td>1056</td>\n",
       "      <td>2.0</td>\n",
       "      <td>1.0</td>\n",
       "      <td>39.07</td>\n",
       "    </tr>\n",
       "    <tr>\n",
       "      <th>1</th>\n",
       "      <td>Plot  Area</td>\n",
       "      <td>Ready To Move</td>\n",
       "      <td>Chikka Tirupathi</td>\n",
       "      <td>4 Bedroom</td>\n",
       "      <td>Theanmp</td>\n",
       "      <td>2600</td>\n",
       "      <td>5.0</td>\n",
       "      <td>3.0</td>\n",
       "      <td>120.00</td>\n",
       "    </tr>\n",
       "    <tr>\n",
       "      <th>2</th>\n",
       "      <td>Built-up  Area</td>\n",
       "      <td>Ready To Move</td>\n",
       "      <td>Uttarahalli</td>\n",
       "      <td>3 BHK</td>\n",
       "      <td>NaN</td>\n",
       "      <td>1440</td>\n",
       "      <td>2.0</td>\n",
       "      <td>3.0</td>\n",
       "      <td>62.00</td>\n",
       "    </tr>\n",
       "    <tr>\n",
       "      <th>3</th>\n",
       "      <td>Super built-up  Area</td>\n",
       "      <td>Ready To Move</td>\n",
       "      <td>Lingadheeranahalli</td>\n",
       "      <td>3 BHK</td>\n",
       "      <td>Soiewre</td>\n",
       "      <td>1521</td>\n",
       "      <td>3.0</td>\n",
       "      <td>1.0</td>\n",
       "      <td>95.00</td>\n",
       "    </tr>\n",
       "    <tr>\n",
       "      <th>4</th>\n",
       "      <td>Super built-up  Area</td>\n",
       "      <td>Ready To Move</td>\n",
       "      <td>Kothanur</td>\n",
       "      <td>2 BHK</td>\n",
       "      <td>NaN</td>\n",
       "      <td>1200</td>\n",
       "      <td>2.0</td>\n",
       "      <td>1.0</td>\n",
       "      <td>51.00</td>\n",
       "    </tr>\n",
       "  </tbody>\n",
       "</table>\n",
       "</div>"
      ],
      "text/plain": [
       "              area_type   availability                  location       size  \\\n",
       "0  Super built-up  Area         19-Dec  Electronic City Phase II      2 BHK   \n",
       "1            Plot  Area  Ready To Move          Chikka Tirupathi  4 Bedroom   \n",
       "2        Built-up  Area  Ready To Move               Uttarahalli      3 BHK   \n",
       "3  Super built-up  Area  Ready To Move        Lingadheeranahalli      3 BHK   \n",
       "4  Super built-up  Area  Ready To Move                  Kothanur      2 BHK   \n",
       "\n",
       "   society total_sqft  bath  balcony   price  \n",
       "0  Coomee        1056   2.0      1.0   39.07  \n",
       "1  Theanmp       2600   5.0      3.0  120.00  \n",
       "2      NaN       1440   2.0      3.0   62.00  \n",
       "3  Soiewre       1521   3.0      1.0   95.00  \n",
       "4      NaN       1200   2.0      1.0   51.00  "
      ]
     },
     "execution_count": 1,
     "metadata": {},
     "output_type": "execute_result"
    }
   ],
   "source": [
    "import pandas as pd\n",
    "from sklearn.model_selection import train_test_split\n",
    "from sklearn.linear_model import LinearRegression\n",
    "from sklearn.metrics import r2_score, mean_absolute_error\n",
    "\n",
    "# Load data\n",
    "df = pd.read_csv(\"C:\\\\Users\\\\HP\\\\OneDrive\\\\Desktop\\\\House_price_prediction\\\\dataset\\\\Bengaluru_House_Data.csv\")\n",
    "\n",
    "df.head()"
   ]
  },
  {
   "cell_type": "markdown",
   "id": "ee2b180a",
   "metadata": {},
   "source": [
    "Data Preprocessing"
   ]
  },
  {
   "cell_type": "code",
   "execution_count": 3,
   "id": "4c7b6a6b",
   "metadata": {},
   "outputs": [],
   "source": [
    "def extract_bhk(x):\n",
    "    if pd.isna(x):  # Handle NaN values\n",
    "        return None\n",
    "    try:\n",
    "        if isinstance(x, str):  # For string data type (\"2 BHK\")\n",
    "            return int(x.split(' ')[0])\n",
    "        elif isinstance(x, (int, float)):  # For numerical data type\n",
    "            return int(x)\n",
    "        else:  \n",
    "            return None\n",
    "    except:\n",
    "        return None  \n",
    "    \n",
    "def convert_sqft(x):\n",
    "    try:\n",
    "        x = str(x).strip()\n",
    "        if '-' in x:  # For intervals (\"1000-1800\")\n",
    "            low, high = map(float, x.split('-'))\n",
    "            return (low + high) / 2  # average\n",
    "        return float(x)\n",
    "    except:\n",
    "        return None   \n"
   ]
  },
  {
   "cell_type": "code",
   "execution_count": 4,
   "id": "5cef598b",
   "metadata": {},
   "outputs": [],
   "source": [
    "df['bhk'] = df['size'].apply(extract_bhk)\n",
    "df.drop('size', axis=1, inplace=True)  # Drop original column\n",
    "\n",
    "df['total_sqft'] = df['total_sqft'].apply(convert_sqft)"
   ]
  },
  {
   "cell_type": "markdown",
   "id": "98b47032",
   "metadata": {},
   "source": [
    "Feature Engineering"
   ]
  },
  {
   "cell_type": "code",
   "execution_count": null,
   "id": "c0c24030",
   "metadata": {},
   "outputs": [],
   "source": [
    "# Remove outliers\n",
    "df = df[(df['total_sqft'] > 300) & (df['total_sqft'] < 3000)]\n",
    "df = df[df['price'] < df['price'].quantile(0.95)]\n",
    "\n",
    "# Handle location\n",
    "df = df[df['location'].notnull()]\n",
    "df['location'] = df['location'].str.strip()\n",
    "loc_counts = df['location'].value_counts()\n",
    "df['location'] = df['location'].apply(lambda x: 'other' if loc_counts[x] <= 10 else x)\n",
    "\n",
    "# Feature engineering\n",
    "df['price_per_sqft'] = (df['price'] * 1e5) / df['total_sqft']\n",
    "\n",
    "# Select features and target\n",
    "features = ['total_sqft', 'bath', 'bhk', 'price_per_sqft', 'location']\n",
    "df = df[features + ['price']].dropna()\n",
    "\n",
    "# One-hot encoding\n",
    "df = pd.get_dummies(df, columns=['location'], drop_first=True)"
   ]
  },
  {
   "cell_type": "markdown",
   "id": "7c967319",
   "metadata": {},
   "source": [
    "Multivariate Linear Regression"
   ]
  },
  {
   "cell_type": "code",
   "execution_count": null,
   "id": "1c400637",
   "metadata": {},
   "outputs": [],
   "source": [
    "# Split data\n",
    "X = df.drop('price', axis=1)\n",
    "y = df['price']\n",
    "X_train, X_test, y_train, y_test = train_test_split(X, y, test_size=0.2, random_state=42)\n",
    "\n",
    "# Handle missing values \n",
    "for col in ['total_sqft', 'bath', 'bhk', 'price_per_sqft']:\n",
    "    median_val = X_train[col].median()\n",
    "    X_train[col].fillna(median_val, inplace=True)\n",
    "    X_test[col].fillna(median_val, inplace=True)"
   ]
  },
  {
   "cell_type": "markdown",
   "id": "8a624f93",
   "metadata": {},
   "source": [
    "Independent variables (X): \"total_sqft\", \"bath\", \"bhk\", \"price_per_sqft\"\n",
    "\n",
    "Dependent variable (Y): \"Price\""
   ]
  },
  {
   "cell_type": "code",
   "execution_count": 116,
   "id": "38557836",
   "metadata": {},
   "outputs": [
    {
     "name": "stdout",
     "output_type": "stream",
     "text": [
      "R2 Score: 0.9367269265798911\n",
      "MAE: 6.428069917511212\n"
     ]
    }
   ],
   "source": [
    "# Model training\n",
    "model = LinearRegression()\n",
    "model.fit(X_train, y_train)\n",
    "preds = model.predict(X_test)\n",
    "\n",
    "# Evaluation\n",
    "print(\"R2 Score:\", r2_score(y_test, preds))\n",
    "print(\"MAE:\", mean_absolute_error(y_test, preds))"
   ]
  }
 ],
 "metadata": {
  "kernelspec": {
   "display_name": "Python 3",
   "language": "python",
   "name": "python3"
  },
  "language_info": {
   "codemirror_mode": {
    "name": "ipython",
    "version": 3
   },
   "file_extension": ".py",
   "mimetype": "text/x-python",
   "name": "python",
   "nbconvert_exporter": "python",
   "pygments_lexer": "ipython3",
   "version": "3.11.9"
  }
 },
 "nbformat": 4,
 "nbformat_minor": 5
}
